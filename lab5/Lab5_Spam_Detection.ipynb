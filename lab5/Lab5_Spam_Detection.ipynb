{
  "cells": [
    {
      "cell_type": "markdown",
      "metadata": {
        "id": "_bphECiUa9zw"
      },
      "source": [
        "# Lab 5: Spam Detection\n",
        "\n",
        "In this assignment, we will build a recurrent neural network to classify a SMS text message\n",
        "as \"spam\" or \"not spam\". In the process, you will\n",
        "    \n",
        "1. Clean and process text data for machine learning.\n",
        "2. Understand and implement a character-level recurrent neural network.\n",
        "3. Understand batching for a recurrent neural network, and develop custom Dataset and DataLoaders with collate_fn to implement RNN batching.\n",
        "\n",
        "### What to submit\n",
        "\n",
        "Submit a PDF file containing all your code, outputs, and write-up. You can produce a PDF of your Google Colab file by going to File > Print and then save as PDF. The Colab instructions have more information.\n",
        "\n",
        "Do not submit any other files produced by your code.\n",
        "\n",
        "Include a link to your colab file in your submission."
      ]
    },
    {
      "cell_type": "markdown",
      "metadata": {
        "id": "rWiUqJJTa9z6"
      },
      "source": [
        "## Colab Link\n",
        "\n",
        "Include a link to your Colab file here.\n",
        "\n",
        "https://colab.research.google.com/drive/1W28pRIE5P1FNhKPEpexGPvLw6XtaZfOg?usp=sharing\n",
        "\n",
        "If you would like the TA to look at your\n",
        "Colab file in case your solutions are cut off, **please make sure that your Colab\n",
        "file is publicly accessible at the time of submission**."
      ]
    },
    {
      "cell_type": "code",
      "execution_count": null,
      "metadata": {
        "id": "HgfNOUaPa9z8",
        "tags": []
      },
      "outputs": [],
      "source": [
        "import torch\n",
        "import torch.nn as nn\n",
        "import torch.nn.functional as F\n",
        "import torch.optim as optim\n",
        "import numpy as np\n",
        "from torch.nn.utils.rnn import pad_sequence\n",
        "from torch.utils.data import DataLoader, Dataset"
      ]
    },
    {
      "cell_type": "markdown",
      "metadata": {
        "id": "M0jLI9LBa90C"
      },
      "source": [
        "## Part 1. Data Cleaning [15 pt]\n",
        "\n",
        "We will be using the \"SMS Spam Collection Data Set\" available at http://archive.ics.uci.edu/ml/datasets/SMS+Spam+Collection\n",
        "\n",
        "There is a link to download the \"Data Folder\" at the very top of the webpage. Download the zip file, unzip it, and upload the file `SMSSpamCollection` to Colab.    "
      ]
    },
    {
      "cell_type": "markdown",
      "metadata": {
        "id": "sSuF7C_Ga90E"
      },
      "source": [
        "### Part (a) [1 pt]\n",
        "\n",
        "Open up the file in Python, and print out one example of a spam SMS, and one example of a non-spam SMS.\n",
        "\n",
        "What is the label value for a spam message, and what is the label value for a non-spam message?"
      ]
    },
    {
      "cell_type": "code",
      "source": [
        "# take a look at the file (first 5 lines)\n",
        "with open('SMSSpamCollection', encoding='latin-1') as f:\n",
        "    for i in range(5):\n",
        "        line = f.readline()\n",
        "        print(line.strip())\n"
      ],
      "metadata": {
        "colab": {
          "base_uri": "https://localhost:8080/"
        },
        "id": "pGpAQPSDHS6L",
        "outputId": "a3f336f3-f01b-494f-aba8-f5e657043ee7"
      },
      "execution_count": null,
      "outputs": [
        {
          "output_type": "stream",
          "name": "stdout",
          "text": [
            "ham\tGo until jurong point, crazy.. Available only in bugis n great world la e buffet... Cine there got amore wat...\n",
            "ham\tOk lar... Joking wif u oni...\n",
            "spam\tFree entry in 2 a wkly comp to win FA Cup final tkts 21st May 2005. Text FA to 87121 to receive entry question(std txt rate)T&C's apply 08452810075over18's\n",
            "ham\tU dun say so early hor... U c already then say...\n",
            "ham\tNah I don't think he goes to usf, he lives around here though\n"
          ]
        }
      ]
    },
    {
      "cell_type": "code",
      "execution_count": null,
      "metadata": {
        "colab": {
          "base_uri": "https://localhost:8080/"
        },
        "id": "I_IfXHeTa90F",
        "jupyter": {
          "outputs_hidden": true
        },
        "outputId": "45fb2904-3d78-4b26-f4a1-cead80e52761"
      },
      "outputs": [
        {
          "output_type": "stream",
          "name": "stdout",
          "text": [
            "Spam Example:\n",
            "Label: 'spam'\n",
            "Message: Free entry in 2 a wkly comp to win FA Cup final tkts 21st May 2005. Text FA to 87121 to receive entry question(std txt rate)T&C's apply 08452810075over18's\n",
            "\n",
            "Non-spam Example:\n",
            "Label: 'ham'\n",
            "Message: Go until jurong point, crazy.. Available only in bugis n great world la e buffet... Cine there got amore wat...\n"
          ]
        }
      ],
      "source": [
        "spam_example = None\n",
        "ham_example = None\n",
        "\n",
        "for line in open('SMSSpamCollection', encoding='latin-1'):\n",
        "    label, message = line.strip().split('\\t')\n",
        "    if label == 'spam' and spam_example is None:\n",
        "        spam_example = message\n",
        "    elif label == 'ham' and ham_example is None:\n",
        "        ham_example = message\n",
        "    if spam_example and ham_example:\n",
        "        break\n",
        "\n",
        "print(\"Spam Example:\\nLabel: 'spam'\\nMessage:\", spam_example)\n",
        "print(\"\\nNon-spam Example:\\nLabel: 'ham'\\nMessage:\", ham_example)\n"
      ]
    },
    {
      "cell_type": "markdown",
      "metadata": {
        "id": "AukA6vMVa90d"
      },
      "source": [
        "### Part (b) [1 pt]\n",
        "\n",
        "How many spam messages are there in the data set?\n",
        "How many non-spam messages are there in the data set?\n"
      ]
    },
    {
      "cell_type": "code",
      "execution_count": null,
      "metadata": {
        "colab": {
          "base_uri": "https://localhost:8080/"
        },
        "id": "LgsqyemVa90e",
        "jupyter": {
          "outputs_hidden": true
        },
        "outputId": "8e59336d-e5d1-4b3e-9b92-5a1b6bcb1bf4"
      },
      "outputs": [
        {
          "output_type": "stream",
          "name": "stdout",
          "text": [
            "Number of spam messages: 747\n",
            "Number of non-spam (ham) messages: 4827\n"
          ]
        }
      ],
      "source": [
        "spam_count = 0\n",
        "ham_count = 0\n",
        "\n",
        "for line in open('SMSSpamCollection', encoding='latin-1'):\n",
        "    label, _ = line.strip().split('\\t')\n",
        "    if label == 'spam':\n",
        "        spam_count += 1\n",
        "    elif label == 'ham':\n",
        "        ham_count += 1\n",
        "\n",
        "print(\"Number of spam messages:\", spam_count)\n",
        "print(\"Number of non-spam (ham) messages:\", ham_count)\n"
      ]
    },
    {
      "cell_type": "markdown",
      "metadata": {
        "id": "d1WXxVt6a90h"
      },
      "source": [
        "### Part (c) [4 pt]\n",
        "\n",
        "load and parse the data into two lists: sequences and labels. Create character-level stoi and itos dictionaries. Reserve the index 0 for padding. Convert the sequences to list of character ids using stoi dictionary and convert the labels to a list of 0s and 1s by assinging class \"ham\" to 0 and class \"spam\" to 1."
      ]
    },
    {
      "cell_type": "code",
      "execution_count": null,
      "metadata": {
        "colab": {
          "base_uri": "https://localhost:8080/"
        },
        "id": "Mhnz8Nk-a90i",
        "tags": [],
        "outputId": "fb26c05e-4e0b-4899-cd44-8aeaa0e18cd1"
      },
      "outputs": [
        {
          "output_type": "stream",
          "name": "stdout",
          "text": [
            "First sequence: [40, 79, 1, 85, 78, 84, 73, 76, 1, 74, 85, 82, 79, 78, 71, 1, 80, 79, 73, 78, 84, 13, 1, 67, 82, 65, 90, 89, 15, 15, 1, 34, 86, 65, 73, 76, 65, 66, 76, 69, 1, 79, 78, 76, 89, 1, 73, 78, 1, 66, 85, 71, 73, 83, 1, 78, 1, 71, 82, 69, 65, 84, 1, 87, 79, 82, 76, 68, 1, 76, 65, 1, 69, 1, 66, 85, 70, 70, 69, 84, 15, 15, 15, 1, 36, 73, 78, 69, 1, 84, 72, 69, 82, 69, 1, 71, 79, 84, 1, 65, 77, 79, 82, 69, 1, 87, 65, 84, 15, 15, 15]\n",
            "First label: 0\n",
            "First few stoi entries: [(' ', 1), ('!', 2), ('\"', 3), ('#', 4), ('$', 5), ('%', 6), ('&', 7), (\"'\", 8), ('(', 9), (')', 10)]\n"
          ]
        }
      ],
      "source": [
        "from collections import defaultdict\n",
        "\n",
        "# 1. store raw text and labels\n",
        "raw_texts = []\n",
        "labels = []\n",
        "\n",
        "with open('SMSSpamCollection', encoding='latin-1') as f:\n",
        "    for line in f:\n",
        "        parts = line.strip().split('\\t')\n",
        "        if len(parts) != 2:\n",
        "            continue\n",
        "        label_str, message = parts\n",
        "        raw_texts.append(message)\n",
        "        labels.append(1 if label_str == 'spam' else 0)\n",
        "\n",
        "# 2 - build character dictionaries\n",
        "char_set = set(char for text in raw_texts for char in text)\n",
        "char_list = sorted(char_set)\n",
        "\n",
        "stoi = {ch: idx+1 for idx, ch in enumerate(char_list)}  # start from 1\n",
        "stoi['<pad>'] = 0  # 0 padding\n",
        "itos = {idx: ch for ch, idx in stoi.items()}\n",
        "\n",
        "# 3. Convert each msg into a list of character IDs\n",
        "sequences = [[stoi[char] for char in msg] for msg in raw_texts]\n",
        "\n",
        "### test: check first few results\n",
        "print(\"First sequence:\", sequences[0])\n",
        "print(\"First label:\", labels[0])\n",
        "print(\"First few stoi entries:\", list(stoi.items())[:10])\n"
      ]
    },
    {
      "cell_type": "markdown",
      "metadata": {
        "id": "ie_D0bv9a90k"
      },
      "source": [
        "### Part (d) [4 pt]\n",
        "\n",
        "Use train_test_split function from sklearn (https://scikit-learn.org/dev/modules/generated/sklearn.model_selection.train_test_split.html) to split the data indices into `train`, `valid`, and `test`. Use a 60-20-20 split.\n",
        "\n",
        "You saw in part (b) that there are many more non-spam messages than spam messages. This **imbalance** in our training data will be problematic for training. We can fix this disparity by duplicating spam messages in the training set, so that the training set is roughly balanced."
      ]
    },
    {
      "cell_type": "code",
      "execution_count": null,
      "metadata": {
        "id": "8Is8TDBmCjOU"
      },
      "outputs": [],
      "source": [
        "from sklearn.model_selection import train_test_split\n",
        "\n",
        "# index list\n",
        "x = sequences\n",
        "y = labels\n",
        "\n",
        "indices = list(range(len(x)))  # x = sequences\n",
        "\n",
        "# split to train and temp (60/40)\n",
        "train_index, temp_index = train_test_split(indices, test_size=0.4, random_state=42, stratify=y)\n",
        "# split to val and test (20/20)\n",
        "val_index, test_index = train_test_split(temp_index, test_size=0.5, random_state=42, stratify=[y[i] for i in temp_index])\n",
        "\n",
        "\n",
        "train_x = [x[idx] for idx in train_index]\n",
        "train_y = [y[idx] for idx in train_index]\n",
        "val_x = [x[idx] for idx in val_index]\n",
        "val_y = [y[idx] for idx in val_index]\n",
        "test_x = [x[idx] for idx in test_index]\n",
        "test_y = [y[idx] for idx in test_index]\n",
        "\n",
        "#Balance the train classes\n",
        "train_spam = []\n",
        "for idx, item in enumerate(train_x):\n",
        "    if train_y[idx] == 1:\n",
        "        train_spam.append(item)\n",
        "# duplicate each spam message 6 more times\n",
        "train_x = train_x + train_spam * 6\n",
        "train_y = train_y + [1] * (len(train_spam) * 6)\n",
        "\n"
      ]
    },
    {
      "cell_type": "code",
      "source": [
        "### TEST: Print number of samples in each split\n",
        "print(f\"Train size (before balancing): {len(train_index)}\")\n",
        "print(f\"Validation size: {len(val_index)}\")\n",
        "print(f\"Test size: {len(test_index)}\")\n"
      ],
      "metadata": {
        "colab": {
          "base_uri": "https://localhost:8080/"
        },
        "id": "X8aixv5aOp3b",
        "outputId": "d018feac-4813-4b48-ef43-210aae4a51a3"
      },
      "execution_count": null,
      "outputs": [
        {
          "output_type": "stream",
          "name": "stdout",
          "text": [
            "Train size (before balancing): 3344\n",
            "Validation size: 1115\n",
            "Test size: 1115\n"
          ]
        }
      ]
    },
    {
      "cell_type": "markdown",
      "metadata": {
        "id": "v6nP0Ks_a90o"
      },
      "source": [
        "### Part (e) [4 pt]\n",
        "\n",
        "Since each sequence has a different length, we cannot use the default DataLoader. We need to change the DataLoader such that it can pad differnt sequence sizes within the batch. To do this, we need to introduce a **collate_fn** to the DataLoader such that it uses **pad_sequence** function (https://pytorch.org/docs/stable/generated/torch.nn.utils.rnn.pad_sequence.html) to pad the sequences within the batch to the same size.\n",
        "\n",
        "We also need a custom Dataset class to return a pair of sequence and label for each example. Complete the code below to address these.\n",
        "\n",
        "Hint:\n",
        "- https://stanford.edu/~shervine/blog/pytorch-how-to-generate-data-parallel\n",
        "- https://plainenglish.io/blog/understanding-collate-fn-in-pytorch-f9d1742647d3"
      ]
    },
    {
      "cell_type": "code",
      "execution_count": null,
      "metadata": {
        "collapsed": true,
        "id": "FWvx9_rka90p",
        "jupyter": {
          "outputs_hidden": true
        }
      },
      "outputs": [],
      "source": [
        "class MyDataset(Dataset):\n",
        "    def __init__(self, sequences, labels):\n",
        "        self.sequences = sequences\n",
        "        self.labels = labels\n",
        "\n",
        "    def __len__(self):\n",
        "        return len(self.sequences)\n",
        "\n",
        "    def __getitem__(self, idx):\n",
        "        # Convert to tensor (from Stanford blog hint)\n",
        "        seq_tensor = torch.tensor(self.sequences[idx], dtype=torch.long)\n",
        "        label_tensor = torch.tensor(self.labels[idx], dtype=torch.long)\n",
        "        return seq_tensor, label_tensor\n",
        "\n",
        "\n",
        "# from both hints\n",
        "def collate_sequences(batch):\n",
        "    # unpack\n",
        "    sequences, labels = zip(*batch)\n",
        "\n",
        "    # pad sequences to match longest in batch\n",
        "    padded_seqs = pad_sequence(sequences, batch_first=True, padding_value=0)\n",
        "\n",
        "    # stack labels into tensor\n",
        "    label_tensor = torch.stack(labels)\n",
        "\n",
        "    return padded_seqs, label_tensor\n",
        "\n",
        "\n",
        "train_loader = DataLoader(dataset=MyDataset(train_x, train_y), batch_size=32, shuffle=True, collate_fn=collate_sequences)\n",
        "val_loader = DataLoader(dataset=MyDataset(val_x, val_y), batch_size=32, shuffle=False, collate_fn=collate_sequences)\n",
        "test_loader = DataLoader(dataset=MyDataset(test_x, test_y), batch_size=32, shuffle=False, collate_fn=collate_sequences)"
      ]
    },
    {
      "cell_type": "markdown",
      "metadata": {
        "id": "Ff5CNk7Qa90y"
      },
      "source": [
        "### Part (f) [1 pt]\n",
        "\n",
        "Take a look at 10 batches in `train_loader`.\n",
        "1. What is the maximum length of the input sequence in each batch?\n",
        "2. How many `<pad>` tokens are used in each of the 10\n",
        "batches?"
      ]
    },
    {
      "cell_type": "code",
      "execution_count": null,
      "metadata": {
        "colab": {
          "base_uri": "https://localhost:8080/"
        },
        "id": "Qwz-rOaha902",
        "tags": [],
        "outputId": "12439ebf-3047-427c-d6f6-7b7c7d11fdd4"
      },
      "outputs": [
        {
          "output_type": "stream",
          "name": "stdout",
          "text": [
            "Batch 1: max_seq_len = 167, pad_tokens = 1969\n",
            "Batch 2: max_seq_len = 208, pad_tokens = 2805\n",
            "Batch 3: max_seq_len = 243, pad_tokens = 4760\n",
            "Batch 4: max_seq_len = 368, pad_tokens = 7871\n",
            "Batch 5: max_seq_len = 161, pad_tokens = 1640\n",
            "Batch 6: max_seq_len = 281, pad_tokens = 5149\n",
            "Batch 7: max_seq_len = 167, pad_tokens = 2194\n",
            "Batch 8: max_seq_len = 161, pad_tokens = 1781\n",
            "Batch 9: max_seq_len = 165, pad_tokens = 1972\n",
            "Batch 10: max_seq_len = 168, pad_tokens = 2356\n"
          ]
        }
      ],
      "source": [
        "count = 0\n",
        "\n",
        "for batch in train_loader:\n",
        "    x_batch, y_batch = batch  # Unpack batch\n",
        "    max_len = x_batch.shape[1]  # Sequence length after padding\n",
        "    num_pad_tokens = (x_batch == 0).sum().item()  # Count <pad> tokens (value 0)\n",
        "\n",
        "    print(f\"Batch {count+1}: max_seq_len = {max_len}, pad_tokens = {num_pad_tokens}\")\n",
        "\n",
        "    count += 1\n",
        "    if count == 10:\n",
        "        break\n"
      ]
    },
    {
      "cell_type": "markdown",
      "metadata": {
        "id": "y7HnqP6_a904"
      },
      "source": [
        "## Part 2. Model Building [8 pt]\n",
        "\n",
        "Build a recurrent neural network model, using an architecture of your choosing.\n",
        "Use the one-hot embedding of each character as input to your recurrent network.\n",
        "Use one or more fully-connected layers to make the prediction based on your\n",
        "recurrent network output.\n",
        "\n",
        "Instead of using the RNN output value for the final token, another often used\n",
        "strategy is to max-pool over the entire output array. That is, instead of calling\n",
        "something like:\n",
        "\n",
        "```\n",
        "out, _ = self.rnn(x)\n",
        "self.fc(out[:, -1, :])\n",
        "```\n",
        "\n",
        "where `self.rnn` is an `nn.RNN`, `nn.GRU`, or `nn.LSTM` module, and `self.fc` is a\n",
        "fully-connected\n",
        "layer, we use:\n",
        "\n",
        "```\n",
        "out, _ = self.rnn(x)\n",
        "self.fc(torch.max(out, dim=1)[0])\n",
        "```\n",
        "\n",
        "This works reasonably in practice. An even better alternative is to concatenate the\n",
        "max-pooling and average-pooling of the RNN outputs:\n",
        "\n",
        "```\n",
        "out, _ = self.rnn(x)\n",
        "out = torch.cat([torch.max(out, dim=1)[0],\n",
        "                 torch.mean(out, dim=1)], dim=1)\n",
        "self.fc(out)\n",
        "```\n",
        "\n",
        "We encourage you to try out all these options. The way you pool the RNN outputs\n",
        "is one of the \"hyperparameters\" that you can choose to tune later on."
      ]
    },
    {
      "cell_type": "code",
      "source": [
        "# One-hot embedding layer\n",
        "\n",
        "class CharOneHotEncoder(nn.Module):\n",
        "    def __init__(self, vocab_size):\n",
        "        super().__init__()\n",
        "        self.eye = torch.eye(vocab_size)\n",
        "\n",
        "    def forward(self, x):\n",
        "        return self.eye[x]  # Converts indices to one-hot vectors\n"
      ],
      "metadata": {
        "id": "ICqgWTWrSNKN"
      },
      "execution_count": null,
      "outputs": []
    },
    {
      "cell_type": "code",
      "source": [
        "# RNN\n",
        "\n",
        "class RNNClassifier(nn.Module):\n",
        "    def __init__(self, vocab_size, hidden_size=128, rnn_type='GRU'):\n",
        "        super().__init__()\n",
        "        self.encoder = CharOneHotEncoder(vocab_size)\n",
        "\n",
        "        if rnn_type == 'RNN':\n",
        "            self.rnn = nn.RNN(vocab_size, hidden_size, batch_first=True)\n",
        "        elif rnn_type == 'LSTM':\n",
        "            self.rnn = nn.LSTM(vocab_size, hidden_size, batch_first=True)\n",
        "        elif rnn_type == 'GRU':\n",
        "            self.rnn = nn.GRU(vocab_size, hidden_size, batch_first=True)\n",
        "        else:\n",
        "            raise ValueError(\"Unsupported RNN type\")\n",
        "\n",
        "        # After concatenating max and mean pool: hidden_size * 2 → 1 output\n",
        "        self.fc = nn.Linear(hidden_size * 2, 1)\n",
        "\n",
        "    def forward(self, x):\n",
        "        # x: (batch_size, seq_len) of character indices\n",
        "        x = self.encoder(x)\n",
        "\n",
        "        out, _ = self.rnn(x)\n",
        "\n",
        "        # max and mean pooling\n",
        "        max_pool = torch.max(out, dim=1)[0]\n",
        "        mean_pool = torch.mean(out, dim=1)\n",
        "        pooled = torch.cat([max_pool, mean_pool], dim=1)\n",
        "\n",
        "        return torch.sigmoid(self.fc(pooled)).squeeze(1)\n"
      ],
      "metadata": {
        "id": "H0KxQKeXSWg5"
      },
      "execution_count": null,
      "outputs": []
    },
    {
      "cell_type": "code",
      "execution_count": null,
      "metadata": {
        "collapsed": true,
        "id": "jHl1p_Wwa905",
        "jupyter": {
          "outputs_hidden": true
        }
      },
      "outputs": [],
      "source": [
        "# # You might find this code helpful for obtaining\n",
        "# # PyTorch one-hot vectors.\n",
        "\n",
        "# ident = torch.eye(10)\n",
        "# print(ident[0]) # one-hot vector\n",
        "# print(ident[1]) # one-hot vector\n",
        "# x = torch.tensor([[1, 2], [3, 4]])\n",
        "# print(ident[x]) # one-hot vectors"
      ]
    },
    {
      "cell_type": "markdown",
      "metadata": {
        "id": "vKIYPl_Ba90_"
      },
      "source": [
        "## Part 3. Training [16 pt]\n",
        "\n",
        "### Part (a) [4 pt]\n",
        "\n",
        "Complete the `get_accuracy` function, which will compute the\n",
        "accuracy (rate) of your model across a dataset (e.g. validation set)."
      ]
    },
    {
      "cell_type": "code",
      "execution_count": null,
      "metadata": {
        "collapsed": true,
        "id": "pvNfhGD6a91A",
        "jupyter": {
          "outputs_hidden": true
        }
      },
      "outputs": [],
      "source": [
        "def get_accuracy(model, data):\n",
        "    \"\"\" Compute the accuracy of the `model` across a dataset `data`\n",
        "\n",
        "    Example usage:\n",
        "\n",
        "    >>> model = MyRNN() # to be defined\n",
        "    >>> get_accuracy(model, valid) # the variable `valid` is from above\n",
        "    \"\"\"\n",
        "\n",
        "def get_accuracy(model, data):\n",
        "    model.eval()\n",
        "    correct = 0\n",
        "    total = 0\n",
        "\n",
        "    with torch.no_grad():  # no gradient computation\n",
        "        for x_batch, y_batch in data:\n",
        "            outputs = model(x_batch)\n",
        "            preds = (outputs > 0.5).long()  # convert probabilities to 0/1 labels\n",
        "            correct += (preds == y_batch).sum().item()\n",
        "            total += y_batch.size(0)\n",
        "\n",
        "    return correct / total\n"
      ]
    },
    {
      "cell_type": "markdown",
      "metadata": {
        "id": "TlxlcAC1a91C"
      },
      "source": [
        "### Part (b) [4 pt]\n",
        "\n",
        "Train your model. Plot the training curve of your final model.\n",
        "Your training curve should have the training/validation loss and\n",
        "accuracy plotted periodically.\n",
        "\n",
        "Note: Not all of your batches will have the same batch size.\n",
        "In particular, if your training set does not divide evenly by\n",
        "your batch size, there will be a batch that is smaller than\n",
        "the rest."
      ]
    },
    {
      "cell_type": "code",
      "execution_count": null,
      "metadata": {
        "collapsed": true,
        "id": "CVtf7CJCa91D",
        "jupyter": {
          "outputs_hidden": true
        }
      },
      "outputs": [],
      "source": [
        "def train_model(model, train_loader, val_loader, num_epochs=10, lr=1e-3, device='cpu'):\n",
        "    model.to(device)\n",
        "    optimizer = torch.optim.Adam(model.parameters(), lr=lr)\n",
        "    criterion = nn.BCELoss()\n",
        "\n",
        "    train_losses = []\n",
        "    val_losses = []\n",
        "    train_accuracies = []\n",
        "    val_accuracies = []\n",
        "\n",
        "    for epoch in range(num_epochs):\n",
        "        model.train()\n",
        "        epoch_loss = 0\n",
        "        correct = 0\n",
        "        total = 0\n",
        "\n",
        "        for x_batch, y_batch in train_loader:\n",
        "            x_batch = x_batch.to(device)\n",
        "            y_batch = y_batch.to(device).float()\n",
        "\n",
        "            optimizer.zero_grad()\n",
        "            outputs = model(x_batch)\n",
        "            loss = criterion(outputs, y_batch)\n",
        "            loss.backward()\n",
        "            optimizer.step()\n",
        "            epoch_loss += loss.item()\n",
        "\n",
        "            preds = (outputs > 0.5).long()\n",
        "            correct += (preds == y_batch.long()).sum().item()\n",
        "            total += y_batch.size(0)\n",
        "\n",
        "        avg_train_loss = epoch_loss / len(train_loader)\n",
        "        train_acc = correct / total\n",
        "        train_losses.append(avg_train_loss)\n",
        "        train_accuracies.append(train_acc)\n",
        "\n",
        "        # Validation\n",
        "        model.eval()\n",
        "        val_loss = 0\n",
        "        correct = 0\n",
        "        total = 0\n",
        "\n",
        "        with torch.no_grad():\n",
        "            for x_batch, y_batch in val_loader:\n",
        "                x_batch = x_batch.to(device)\n",
        "                y_batch = y_batch.to(device).float()\n",
        "                outputs = model(x_batch)\n",
        "                loss = criterion(outputs, y_batch)\n",
        "                val_loss += loss.item()\n",
        "\n",
        "                preds = (outputs > 0.5).long()\n",
        "                correct += (preds == y_batch.long()).sum().item()\n",
        "                total += y_batch.size(0)\n",
        "\n",
        "        avg_val_loss = val_loss / len(val_loader)\n",
        "        val_acc = correct / total\n",
        "        val_losses.append(avg_val_loss)\n",
        "        val_accuracies.append(val_acc)\n",
        "\n",
        "        print(f\"Epoch {epoch+1}: train_loss={avg_train_loss:.4f}, train_acc={train_acc:.4f}, val_loss={avg_val_loss:.4f}, val_acc={val_acc:.4f}\")\n",
        "\n",
        "    return train_losses, val_losses, train_accuracies, val_accuracies\n"
      ]
    },
    {
      "cell_type": "code",
      "source": [
        "import matplotlib.pyplot as plt\n",
        "\n",
        "def plot_training_curves(train_losses, val_losses, train_accuracies, val_accuracies):\n",
        "    plt.figure(figsize=(12, 4))\n",
        "\n",
        "    plt.subplot(1, 2, 1)\n",
        "    plt.plot(train_losses, label=\"Train Loss\")\n",
        "    plt.plot(val_losses, label=\"Val Loss\")\n",
        "    plt.title(\"Loss over Epochs\")\n",
        "    plt.xlabel(\"Epoch\")\n",
        "    plt.ylabel(\"Loss\")\n",
        "    plt.legend()\n",
        "\n",
        "    plt.subplot(1, 2, 2)\n",
        "    plt.plot(train_accuracies, label=\"Train Accuracy\")\n",
        "    plt.plot(val_accuracies, label=\"Val Accuracy\")\n",
        "    plt.title(\"Accuracy over Epochs\")\n",
        "    plt.xlabel(\"Epoch\")\n",
        "    plt.ylabel(\"Accuracy\")\n",
        "    plt.legend()\n",
        "\n",
        "    plt.tight_layout()\n",
        "    plt.show()\n"
      ],
      "metadata": {
        "id": "380DiqmNUIIx"
      },
      "execution_count": null,
      "outputs": []
    },
    {
      "cell_type": "code",
      "source": [
        "# training\n",
        "model = RNNClassifier(vocab_size=len(stoi), hidden_size=128, rnn_type='GRU')\n",
        "train_losses, val_losses, train_accs, val_accs = train_model(model, train_loader, val_loader, num_epochs=10)\n",
        "plot_training_curves(train_losses, val_losses, train_accs, val_accs)\n"
      ],
      "metadata": {
        "colab": {
          "base_uri": "https://localhost:8080/",
          "height": 581
        },
        "id": "xiT8F-N8ULOj",
        "outputId": "eacc46a5-6b5b-4858-eb0e-773a93eb5274"
      },
      "execution_count": null,
      "outputs": [
        {
          "output_type": "stream",
          "name": "stdout",
          "text": [
            "Epoch 1: train_loss=0.3944, train_acc=0.8337, val_loss=0.3162, val_acc=0.9265\n",
            "Epoch 2: train_loss=0.1874, train_acc=0.9392, val_loss=0.1193, val_acc=0.9704\n",
            "Epoch 3: train_loss=0.1491, train_acc=0.9518, val_loss=0.1215, val_acc=0.9704\n",
            "Epoch 4: train_loss=0.1177, train_acc=0.9635, val_loss=0.1087, val_acc=0.9749\n",
            "Epoch 5: train_loss=0.1074, train_acc=0.9670, val_loss=0.0884, val_acc=0.9776\n",
            "Epoch 6: train_loss=0.0937, train_acc=0.9721, val_loss=0.0646, val_acc=0.9857\n",
            "Epoch 7: train_loss=0.0742, train_acc=0.9760, val_loss=0.0483, val_acc=0.9883\n",
            "Epoch 8: train_loss=0.0662, train_acc=0.9799, val_loss=0.0499, val_acc=0.9883\n",
            "Epoch 9: train_loss=0.0501, train_acc=0.9834, val_loss=0.0818, val_acc=0.9776\n",
            "Epoch 10: train_loss=0.0425, train_acc=0.9857, val_loss=0.0496, val_acc=0.9874\n"
          ]
        },
        {
          "output_type": "display_data",
          "data": {
            "text/plain": [
              "<Figure size 1200x400 with 2 Axes>"
            ],
            "image/png": "[encoded data removed]"
          },
          "metadata": {}
        }
      ]
    },
    {
      "cell_type": "markdown",
      "metadata": {
        "id": "fE3eRkDAa91F"
      },
      "source": [
        "### Part (c) [4 pt]\n",
        "\n",
        "Choose at least 4 hyperparameters to tune. Explain how you tuned the hyperparameters.\n",
        "You don't need to include your training curve for every model you trained.\n",
        "Instead, explain what hyperparemters you tuned, what the best validation accuracy was,\n",
        "and the reasoning behind the hyperparameter decisions you made.\n",
        "\n",
        "For this assignment, you should tune more than just your learning rate and epoch.\n",
        "Choose at least 2 hyperparameters that are unrelated to the optimizer."
      ]
    },
    {
      "cell_type": "markdown",
      "source": [
        "##### Model 1 - Max Pooling\n",
        "\n",
        "**Hyperparameter**: Pooling strategy\n",
        "\n",
        "Switched from concatenated max + mean pooling (used in Model 0) to only max pooling across the RNN outputs.\n",
        "\n",
        "**Best Validatiin Accuracy**: 0.9803, did NOT improve from Model 0's 0.9883\n",
        "\n",
        "**Reason**:\n",
        "Compared to max + mean pooling, this approach reduces the representation size (by half) and removes redundant averaging, potentially improving efficiency.\n",
        "\n",
        "However, the validation accuracy slightly dropped, suggesting that combining max and mean pooling helps retain both strong features and broader context."
      ],
      "metadata": {
        "id": "MNzQBau1Y2gj"
      }
    },
    {
      "cell_type": "code",
      "execution_count": null,
      "metadata": {
        "collapsed": true,
        "id": "A2GEWfDca91G",
        "jupyter": {
          "outputs_hidden": true
        }
      },
      "outputs": [],
      "source": [
        "class RNNMaxPoolModel(nn.Module):\n",
        "    def __init__(self, vocab_size, hidden_size=128, rnn_type='GRU'):\n",
        "        super().__init__()\n",
        "        self.encoder = CharOneHotEncoder(vocab_size)\n",
        "\n",
        "        if rnn_type == 'GRU':\n",
        "            self.rnn = nn.GRU(vocab_size, hidden_size, batch_first=True)\n",
        "        elif rnn_type == 'LSTM':\n",
        "            self.rnn = nn.LSTM(vocab_size, hidden_size, batch_first=True)\n",
        "        elif rnn_type == 'RNN':\n",
        "            self.rnn = nn.RNN(vocab_size, hidden_size, batch_first=True)\n",
        "        else:\n",
        "            raise ValueError(\"Unsupported RNN type\")\n",
        "\n",
        "        self.fc = nn.Linear(hidden_size, 1)\n",
        "\n",
        "    def forward(self, x):\n",
        "        x = self.encoder(x)\n",
        "        out, _ = self.rnn(x)\n",
        "\n",
        "        # Max pooling only\n",
        "        pooled = torch.max(out, dim=1)[0]\n",
        "\n",
        "        return torch.sigmoid(self.fc(pooled)).squeeze(1)\n"
      ]
    },
    {
      "cell_type": "code",
      "source": [
        "# train\n",
        "model1 = RNNMaxPoolModel(vocab_size=len(stoi), hidden_size=128, rnn_type='GRU')\n",
        "train_losses, val_losses, train_accs, val_accs = train_model(model1, train_loader, val_loader, num_epochs=10)\n"
      ],
      "metadata": {
        "colab": {
          "base_uri": "https://localhost:8080/"
        },
        "id": "MZIMJAWiMbG5",
        "outputId": "c36b6eb6-d391-4e43-9c74-af449c357079"
      },
      "execution_count": null,
      "outputs": [
        {
          "output_type": "stream",
          "name": "stdout",
          "text": [
            "Epoch 1: train_loss=0.3444, train_acc=0.8622, val_loss=0.1547, val_acc=0.9614\n",
            "Epoch 2: train_loss=0.2914, train_acc=0.9040, val_loss=0.1434, val_acc=0.9695\n",
            "Epoch 3: train_loss=0.3261, train_acc=0.8861, val_loss=0.1220, val_acc=0.9534\n",
            "Epoch 4: train_loss=0.1943, train_acc=0.9267, val_loss=0.3307, val_acc=0.8368\n",
            "Epoch 5: train_loss=0.1673, train_acc=0.9460, val_loss=0.1045, val_acc=0.9516\n",
            "Epoch 6: train_loss=0.1215, train_acc=0.9589, val_loss=0.1025, val_acc=0.9650\n",
            "Epoch 7: train_loss=0.1093, train_acc=0.9634, val_loss=0.0882, val_acc=0.9686\n",
            "Epoch 8: train_loss=0.0978, train_acc=0.9692, val_loss=0.0748, val_acc=0.9803\n",
            "Epoch 9: train_loss=0.0959, train_acc=0.9682, val_loss=0.1216, val_acc=0.9623\n",
            "Epoch 10: train_loss=0.1423, train_acc=0.9559, val_loss=0.1033, val_acc=0.9776\n"
          ]
        }
      ]
    },
    {
      "cell_type": "markdown",
      "source": [
        "##### Model 2 - LSTM\n",
        "\n",
        "\n",
        "**Hyperparameter**: RNN cell type\n",
        "Switched from a GRU (used in Model 0) to an LSTM as the recurrent unit within the RNN model.\n",
        "\n",
        "**Best Validatiin Accuracy**: 0.9785, did NOT improve from Model 0's 0.9883\n",
        "\n",
        "**Reason**:\n",
        "LSTM cells introduce an additional memory component (the cell state) that may help capture longer-term dependencies in sequence data. It might improve performance on messages with distant contextual clues."
      ],
      "metadata": {
        "id": "ZlqqIrUsO6Ew"
      }
    },
    {
      "cell_type": "code",
      "source": [
        "model2 = RNNClassifier(vocab_size=len(stoi), hidden_size=128, rnn_type='LSTM')\n",
        "train_losses2, val_losses2, train_accs2, val_accs2 = train_model(\n",
        "    model2,\n",
        "    train_loader,\n",
        "    val_loader,\n",
        "    num_epochs=10,\n",
        ")\n"
      ],
      "metadata": {
        "colab": {
          "base_uri": "https://localhost:8080/"
        },
        "id": "7R-QjLX7PCXp",
        "outputId": "f081668b-100a-4124-a9c4-e4d5202792bf"
      },
      "execution_count": null,
      "outputs": [
        {
          "output_type": "stream",
          "name": "stdout",
          "text": [
            "Epoch 1: train_loss=0.4428, train_acc=0.8418, val_loss=0.1725, val_acc=0.9641\n",
            "Epoch 2: train_loss=0.3100, train_acc=0.9010, val_loss=0.4148, val_acc=0.8655\n",
            "Epoch 3: train_loss=0.4528, train_acc=0.7996, val_loss=0.3045, val_acc=0.9067\n",
            "Epoch 4: train_loss=0.2282, train_acc=0.9350, val_loss=0.1939, val_acc=0.9363\n",
            "Epoch 5: train_loss=0.1606, train_acc=0.9546, val_loss=0.1383, val_acc=0.9534\n",
            "Epoch 6: train_loss=0.1719, train_acc=0.9406, val_loss=0.1059, val_acc=0.9614\n",
            "Epoch 7: train_loss=0.1270, train_acc=0.9607, val_loss=0.2021, val_acc=0.9058\n",
            "Epoch 8: train_loss=0.1527, train_acc=0.9433, val_loss=0.1086, val_acc=0.9641\n",
            "Epoch 9: train_loss=0.1108, train_acc=0.9649, val_loss=0.0799, val_acc=0.9713\n",
            "Epoch 10: train_loss=0.0927, train_acc=0.9695, val_loss=0.0607, val_acc=0.9785\n"
          ]
        }
      ]
    },
    {
      "cell_type": "markdown",
      "source": [
        "##### Model 3 - Hidden size 256\n",
        "\n",
        "\n",
        "**Hyperparameter**: Hidden size\n",
        "\n",
        "Increased the RNN hidden dimension from 128 (used in Model 0) to 256 to explore whether a larger model capacity improves performance.\n",
        "\n",
        "**Best Validatiin Accuracy**: 0.9865, did NOT improve from Model 0's 0.9883\n",
        "\n",
        "**Reason**:\n",
        "Larger hidden sizes provide the model with more capacity to learn complex patterns by expanding the dimensionality of the hidden state. This can help the model better capture subtle relationships in the data, especially in longer or more varied input sequences."
      ],
      "metadata": {
        "id": "6x-NXIR2RehD"
      }
    },
    {
      "cell_type": "code",
      "source": [
        "class RNNClassifierHidden(nn.Module):\n",
        "    # change hidden_size to 256v (from 128 in Model 0)\n",
        "    def __init__(self, vocab_size, hidden_size=256, rnn_type='GRU'):\n",
        "        super().__init__()\n",
        "        self.encoder = CharOneHotEncoder(vocab_size)\n",
        "\n",
        "        if rnn_type == 'RNN':\n",
        "            self.rnn = nn.RNN(vocab_size, hidden_size, batch_first=True)\n",
        "        elif rnn_type == 'LSTM':\n",
        "            self.rnn = nn.LSTM(vocab_size, hidden_size, batch_first=True)\n",
        "        elif rnn_type == 'GRU':\n",
        "            self.rnn = nn.GRU(vocab_size, hidden_size, batch_first=True)\n",
        "        else:\n",
        "            raise ValueError(\"Unsupported RNN type\")\n",
        "\n",
        "        # After concatenating max and mean pool: hidden_size * 2 → 1 output\n",
        "        self.fc = nn.Linear(hidden_size * 2, 1)\n",
        "\n",
        "    def forward(self, x):\n",
        "        # x: (batch_size, seq_len) of character indices\n",
        "        x = self.encoder(x)\n",
        "\n",
        "        out, _ = self.rnn(x)\n",
        "\n",
        "        # max and mean pooling\n",
        "        max_pool = torch.max(out, dim=1)[0]\n",
        "        mean_pool = torch.mean(out, dim=1)\n",
        "        pooled = torch.cat([max_pool, mean_pool], dim=1)\n",
        "\n",
        "        return torch.sigmoid(self.fc(pooled)).squeeze(1)\n"
      ],
      "metadata": {
        "id": "ve8clG36Rgpk"
      },
      "execution_count": null,
      "outputs": []
    },
    {
      "cell_type": "code",
      "source": [
        "model3 = RNNClassifier(vocab_size=len(stoi), hidden_size=256, rnn_type='GRU')\n",
        "train_losses3, val_losses3, train_accs3, val_accs3 = train_model(\n",
        "    model3,\n",
        "    train_loader,\n",
        "    val_loader,\n",
        "    num_epochs=10,\n",
        ")\n"
      ],
      "metadata": {
        "colab": {
          "base_uri": "https://localhost:8080/"
        },
        "id": "0TwTfRyERtc9",
        "outputId": "d99c33b4-04af-4068-ae1f-bd6b75e96ead"
      },
      "execution_count": null,
      "outputs": [
        {
          "output_type": "stream",
          "name": "stdout",
          "text": [
            "Epoch 1: train_loss=0.3432, train_acc=0.8670, val_loss=0.1263, val_acc=0.9776\n",
            "Epoch 2: train_loss=0.1476, train_acc=0.9504, val_loss=0.0692, val_acc=0.9821\n",
            "Epoch 3: train_loss=0.1069, train_acc=0.9662, val_loss=0.0720, val_acc=0.9830\n",
            "Epoch 4: train_loss=0.0869, train_acc=0.9740, val_loss=0.1190, val_acc=0.9596\n",
            "Epoch 5: train_loss=0.0745, train_acc=0.9775, val_loss=0.0581, val_acc=0.9865\n",
            "Epoch 6: train_loss=0.0516, train_acc=0.9859, val_loss=0.0512, val_acc=0.9821\n",
            "Epoch 7: train_loss=0.0498, train_acc=0.9851, val_loss=0.0657, val_acc=0.9821\n",
            "Epoch 8: train_loss=0.0364, train_acc=0.9886, val_loss=0.0783, val_acc=0.9794\n",
            "Epoch 9: train_loss=0.0304, train_acc=0.9902, val_loss=0.0660, val_acc=0.9821\n",
            "Epoch 10: train_loss=0.0224, train_acc=0.9927, val_loss=0.0609, val_acc=0.9830\n"
          ]
        }
      ]
    },
    {
      "cell_type": "markdown",
      "source": [
        "##### Model 4 - Smaller learning rate 1e-4\n",
        "\n",
        "\n",
        "**Hyperparameter**: Learning rate\n",
        "\n",
        "Reduced the learning rate from the default 1e-3 (used in Model 0) to 1e-4 while keeping all other hyprparameters the same.\n",
        "\n",
        "**Best Validatiin Accuracy**: 0.9659, did NOT improve from Model 0's 0.9883\n",
        "\n",
        "**Reason**:\n",
        "A smaller learning rate slows down the weight updates, which can help the model converge more smoothly and avoid overshooting local minima. This is often useful in preventing overfitting or improving generalization, especially in deeper or noisier models."
      ],
      "metadata": {
        "id": "BXfONDElXZiy"
      }
    },
    {
      "cell_type": "code",
      "source": [
        "model4 = RNNClassifier(vocab_size=len(stoi), hidden_size=128, rnn_type='GRU')\n",
        "\n",
        "train_losses4, val_losses4, train_accs4, val_accs4 = train_model(\n",
        "    model4,\n",
        "    train_loader,\n",
        "    val_loader,\n",
        "    num_epochs=10,\n",
        "    lr=1e-4,  # smaller learning rate\n",
        ")\n"
      ],
      "metadata": {
        "colab": {
          "base_uri": "https://localhost:8080/"
        },
        "id": "ENCEeKuZXm4n",
        "outputId": "3b2f6940-141a-45c0-a1f0-4914b59b4cd8"
      },
      "execution_count": null,
      "outputs": [
        {
          "output_type": "stream",
          "name": "stdout",
          "text": [
            "Epoch 1: train_loss=0.6399, train_acc=0.7437, val_loss=0.4018, val_acc=0.8484\n",
            "Epoch 2: train_loss=0.3501, train_acc=0.8705, val_loss=0.4411, val_acc=0.8906\n",
            "Epoch 3: train_loss=0.3462, train_acc=0.8593, val_loss=0.2755, val_acc=0.9274\n",
            "Epoch 4: train_loss=0.2380, train_acc=0.9246, val_loss=0.2135, val_acc=0.9632\n",
            "Epoch 5: train_loss=0.2066, train_acc=0.9403, val_loss=0.2003, val_acc=0.9578\n",
            "Epoch 6: train_loss=0.1931, train_acc=0.9435, val_loss=0.2122, val_acc=0.9596\n",
            "Epoch 7: train_loss=0.1880, train_acc=0.9436, val_loss=0.1998, val_acc=0.9596\n",
            "Epoch 8: train_loss=0.2483, train_acc=0.9181, val_loss=0.2048, val_acc=0.9614\n",
            "Epoch 9: train_loss=0.2142, train_acc=0.9289, val_loss=0.2057, val_acc=0.9641\n",
            "Epoch 10: train_loss=0.2353, train_acc=0.9360, val_loss=0.1669, val_acc=0.9659\n"
          ]
        }
      ]
    },
    {
      "cell_type": "markdown",
      "metadata": {
        "id": "v7DY56rKa91I"
      },
      "source": [
        "### Part (d) [2 pt]\n",
        "\n",
        "Before we deploy a machine learning model, we usually want to have a better understanding\n",
        "of how our model performs beyond its validation accuracy. An important metric to track is\n",
        "*how well our model performs in certain subsets of the data*.\n",
        "\n",
        "In particular, what is the model's error rate amongst data with negative labels?\n",
        "This is called the **false positive rate**.\n",
        "\n",
        "What about the model's error rate amongst data with positive labels?\n",
        "This is called the **false negative rate**.\n",
        "\n",
        "Report your final model's false positive and false negative rate across the\n",
        "validation set.\n"
      ]
    },
    {
      "cell_type": "markdown",
      "source": [
        "Final Model: Model 0\n",
        "\n",
        "\n",
        "- **False Positives**: model predicted 1 (spam) when the true label was 0 (ham) = % of negative samples incorrectly predicted as positive\n",
        "\n",
        "- **False Negatives**: model predicted 0 (ham) when the true label was 1 (spam) = % of positive samples incorrectly predicted as negative"
      ],
      "metadata": {
        "id": "Kcdlt09Zc6AC"
      }
    },
    {
      "cell_type": "code",
      "execution_count": null,
      "metadata": {
        "collapsed": true,
        "id": "7ggbQSdba91J",
        "jupyter": {
          "outputs_hidden": true
        }
      },
      "outputs": [],
      "source": [
        "def compute_fpr_fnr(model, data_loader, device='cpu'):\n",
        "    model.eval()\n",
        "    model.to(device)\n",
        "\n",
        "    y_true = []\n",
        "    y_pred = []\n",
        "\n",
        "    with torch.no_grad():\n",
        "        for x_batch, y_batch in data_loader:\n",
        "            x_batch = x_batch.to(device)\n",
        "            y_batch = y_batch.to(device)\n",
        "\n",
        "            outputs = model(x_batch)\n",
        "            preds = (outputs > 0.5).long()\n",
        "\n",
        "            y_true.extend(y_batch.cpu().numpy())\n",
        "            y_pred.extend(preds.cpu().numpy())\n",
        "\n",
        "    y_true = np.array(y_true)\n",
        "    y_pred = np.array(y_pred)\n",
        "\n",
        "    neg_mask = y_true == 0   # locations where the true label is ham (0)\n",
        "    pos_mask = y_true == 1   # locations where the true label is spam (1)\n",
        "\n",
        "    false_positives = np.sum((y_pred == 1) & neg_mask)\n",
        "    false_negatives = np.sum((y_pred == 0) & pos_mask)\n",
        "\n",
        "    total_neg = np.sum(neg_mask)\n",
        "    total_pos = np.sum(pos_mask)\n",
        "\n",
        "    fpr = false_positives / total_neg\n",
        "    fnr = false_negatives / total_pos\n",
        "\n",
        "    return fpr, fnr\n"
      ]
    },
    {
      "cell_type": "code",
      "source": [
        "fpr, fnr = compute_fpr_fnr(model, val_loader, device='cpu')\n",
        "print(f\"False Positive Rate: {fpr:.4f}\")\n",
        "print(f\"False Negative Rate: {fnr:.4f}\")\n"
      ],
      "metadata": {
        "colab": {
          "base_uri": "https://localhost:8080/"
        },
        "id": "cpMNWLjuavQv",
        "outputId": "4390a0f8-18c3-40e8-d72f-a42885a41673"
      },
      "execution_count": null,
      "outputs": [
        {
          "output_type": "stream",
          "name": "stdout",
          "text": [
            "False Positive Rate: 0.0083\n",
            "False Negative Rate: 0.0400\n"
          ]
        }
      ]
    },
    {
      "cell_type": "markdown",
      "metadata": {
        "id": "N1iRteb3a91O"
      },
      "source": [
        "### Part (e) [2 pt]\n",
        "\n",
        "The impact of a false positive vs a false negative can be drastically different.\n",
        "If our spam detection algorithm was deployed on your phone, what is the impact\n",
        "of a false positive on the phone's user? What is the impact of a false negative?"
      ]
    },
    {
      "cell_type": "markdown",
      "source": [
        "**False Positive** (ham misclassified as spam):\n",
        "This means an important legitimate message (e.g., from a friend, family member, or service provider) is mistakenly filtered into the spam folder.\n",
        "\n",
        "For the user, this could result in missing critical or time-sensitive information, like an appointment reminder, job interview notice, or bank alert.\n",
        "\n",
        "**False Negative** (spam misclassified as ham):\n",
        "This allows an unwanted spam message to appear in the user’s main inbox. While this may be annoying and slightly reduce trust in the filtering system, **it is generally less severe than a false positive.** The user can manually recognize and delete the spam."
      ],
      "metadata": {
        "id": "Xrmxz1yye164"
      }
    },
    {
      "cell_type": "code",
      "execution_count": null,
      "metadata": {
        "collapsed": true,
        "id": "hFLUOJTGa91Q",
        "jupyter": {
          "outputs_hidden": true
        }
      },
      "outputs": [],
      "source": []
    },
    {
      "cell_type": "markdown",
      "metadata": {
        "id": "Gznefulsa91V"
      },
      "source": [
        "## Part 4. Evaluation [11 pt]\n",
        "\n",
        "### Part (a) [1 pt]\n",
        "\n",
        "Report the final test accuracy of your model."
      ]
    },
    {
      "cell_type": "code",
      "execution_count": null,
      "metadata": {
        "colab": {
          "base_uri": "https://localhost:8080/"
        },
        "id": "D5L5D-A1a91W",
        "jupyter": {
          "outputs_hidden": true
        },
        "outputId": "556c88fc-bafa-46ac-dc98-45845290222a"
      },
      "outputs": [
        {
          "output_type": "stream",
          "name": "stdout",
          "text": [
            "Final Test Accuracy: 0.9740\n"
          ]
        }
      ],
      "source": [
        "test_acc = get_accuracy(model, test_loader)\n",
        "print(f\"Final Test Accuracy: {test_acc:.4f}\")\n"
      ]
    },
    {
      "cell_type": "markdown",
      "metadata": {
        "id": "6Hjmd8rca91Y"
      },
      "source": [
        "### Part (b) [3 pt]\n",
        "\n",
        "Report the false positive rate and false negative rate of your model across the test set."
      ]
    },
    {
      "cell_type": "code",
      "execution_count": null,
      "metadata": {
        "colab": {
          "base_uri": "https://localhost:8080/"
        },
        "id": "GFiAKztJa91Z",
        "jupyter": {
          "outputs_hidden": true
        },
        "outputId": "55843ad0-3279-42b7-cf7c-3710ce2b33b1"
      },
      "outputs": [
        {
          "output_type": "stream",
          "name": "stdout",
          "text": [
            "False Positive Rate: 0.0186\n",
            "False Negative Rate: 0.0738\n"
          ]
        }
      ],
      "source": [
        "fpr_test, fnr_test = compute_fpr_fnr(model, test_loader, device='cpu')\n",
        "print(f\"False Positive Rate: {fpr_test:.4f}\")\n",
        "print(f\"False Negative Rate: {fnr_test:.4f}\")\n"
      ]
    },
    {
      "cell_type": "markdown",
      "metadata": {
        "id": "0jGHtQFpa91b"
      },
      "source": [
        "### Part (c) [3 pt]\n",
        "\n",
        "What is your model's prediction of the **probability** that\n",
        "the SMS message \"machine learning is sooo cool!\" is spam?\n",
        "\n",
        "Hint: To begin, use `stoi` to look up the index\n",
        "of each character in the vocabulary."
      ]
    },
    {
      "cell_type": "code",
      "execution_count": null,
      "metadata": {
        "collapsed": true,
        "id": "h_2nSJq8a91b",
        "jupyter": {
          "outputs_hidden": true
        }
      },
      "outputs": [],
      "source": [
        "msg = \"machine learning is sooo cool!\""
      ]
    },
    {
      "cell_type": "code",
      "source": [
        "msg = \"machine learning is sooo cool!\"\n",
        "\n",
        "# char look up using stoi\n",
        "indices = [stoi[c] for c in msg if c in stoi]\n",
        "\n",
        "# convert indices to tensor\n",
        "input_tensor = torch.tensor(indices).unsqueeze(0)  # shape (1, seq_len)\n",
        "\n",
        "input_tensor = input_tensor.to('cpu')\n",
        "\n",
        "model.eval()\n",
        "\n",
        "with torch.no_grad():\n",
        "    prob = model(input_tensor).item()\n",
        "\n",
        "print(f\"Spam probability: {prob:.4f}\")\n"
      ],
      "metadata": {
        "colab": {
          "base_uri": "https://localhost:8080/"
        },
        "id": "noXdp2NqfnOi",
        "outputId": "1ae19812-b2c5-438c-cba9-a99d90d84f31"
      },
      "execution_count": null,
      "outputs": [
        {
          "output_type": "stream",
          "name": "stdout",
          "text": [
            "Spam probability: 0.2369\n"
          ]
        }
      ]
    },
    {
      "cell_type": "markdown",
      "metadata": {
        "id": "QD1zgYJpa91f"
      },
      "source": [
        "### Part (d) [4 pt]\n",
        "\n",
        "Do you think detecting spam is an easy or difficult task?\n",
        "\n",
        "Since machine learning models are expensive to train and deploy, it is very\n",
        "important to compare our models against baseline models: a simple\n",
        "model that is easy to build and inexpensive to run that we can compare our\n",
        "recurrent neural network model against.\n",
        "\n",
        "Explain how you might build a simple baseline model. This baseline model\n",
        "can be a simple neural network (with very few weights), a hand-written algorithm,\n",
        "or any other strategy that is easy to build and test.\n",
        "\n",
        "**Do not actually build a baseline model. Instead, provide instructions on\n",
        "how to build it.**"
      ]
    },
    {
      "cell_type": "markdown",
      "source": [
        "1. **Is detecting spam an easy or difficult task?**\n",
        "\n",
        "Detecting spam is moderately difficult. While some spam messages contain obvious patterns, others are more subtle, mimicking legitimate communication. Additionally, language evolves, and spammers constantly adapt their techniques. Therefore, spam detection systems need to handle ambiguous messages, varied writing styles, and evolving vocabularies, which makes the task more complex than it may seem.\n",
        "\n",
        "2. **Baseline Model: logistic regression**\n",
        "\n",
        "**Steps**:\n",
        "\n",
        "- Preprocessing: Lowercase text, tokenize, and vectorize to get fixed-length input vectors.\n",
        "\n",
        "- Model: Use a single linear layer (i.e. logistic regression): Linear(input_dim, 1) + sigmoid.\n",
        "\n",
        "- Training: Use binary cross-entropy loss with SGD or Adam; train for a few epochs (eg. 10 epochs).\n",
        "\n",
        "- Prediction: Vectorize the message and predict spam if probability > 0.5.\n",
        "\n",
        "**Advantages**:\n",
        "\n",
        "- Fast to train: No need for GPU or long training cycles.\n",
        "\n",
        "- Interpretable: Can examine learned weights to see which tokens are most indicative of spam.\n",
        "\n"
      ],
      "metadata": {
        "id": "oVlp3Hxggsac"
      }
    },
    {
      "cell_type": "code",
      "execution_count": null,
      "metadata": {
        "collapsed": true,
        "id": "LTndp-IOa91g",
        "jupyter": {
          "outputs_hidden": true
        }
      },
      "outputs": [],
      "source": []
    }
  ],
  "metadata": {
    "colab": {
      "provenance": [],
      "toc_visible": true
    },
    "kernelspec": {
      "display_name": "Python 3 (ipykernel)",
      "language": "python",
      "name": "python3"
    },
    "language_info": {
      "codemirror_mode": {
        "name": "ipython",
        "version": 3
      },
      "file_extension": ".py",
      "mimetype": "text/x-python",
      "name": "python",
      "nbconvert_exporter": "python",
      "pygments_lexer": "ipython3",
      "version": "3.9.18"
    }
  },
  "nbformat": 4,
  "nbformat_minor": 0
}